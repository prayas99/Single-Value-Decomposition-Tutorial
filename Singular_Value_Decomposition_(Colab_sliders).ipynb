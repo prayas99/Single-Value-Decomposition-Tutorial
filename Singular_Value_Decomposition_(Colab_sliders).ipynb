{
  "nbformat": 4,
  "nbformat_minor": 0,
  "metadata": {
    "colab": {
      "name": "Singular Value Decomposition (Colab sliders).ipynb",
      "provenance": [],
      "collapsed_sections": []
    },
    "kernelspec": {
      "name": "python3",
      "display_name": "Python 3"
    }
  },
  "cells": [
    {
      "cell_type": "markdown",
      "metadata": {
        "id": "8Ev8_-WR8xbv"
      },
      "source": [
        "Singular value decomposition is a generalization of the eigen- decomposition of a square Matrix to a non-square matrix.\n",
        "$$\n",
        "M =U \\Sigma V^T\n",
        "$$\n",
        "Where, $M$ is $m \\times  n$ matrix, $U$ is $m \\times  m$ matrixreal or complex unitary matrix, $V^T$ is $n \\times  n$ real or complex unitary matrix  and  $\\Sigma$ is $m \\times  n$ rectangular diagonal matrix with non-negative real numbers"
      ]
    },
    {
      "cell_type": "code",
      "metadata": {
        "id": "pBCWsj5i-7Uf",
        "cellView": "form"
      },
      "source": [
        "#@title Import numpy\n",
        "import numpy as np\n",
        "SIGMA ='\\N{greek capital letter sigma}'"
      ],
      "execution_count": null,
      "outputs": []
    },
    {
      "cell_type": "code",
      "metadata": {
        "id": "HCsMDBSS_EmS"
      },
      "source": [
        "#@title Create a random complex matrix of m x n size { run: \"auto\" }\n",
        "m = 4 #@param {type:\"slider\", min:2, max:10, step:1}\n",
        "n=2 #@param {type:\"slider\", min:2, max:10, step:1}\n",
        "M= np.random.randn(m, n) + 1j*np.random.randn(m, n) # Create a random matrix M\n",
        "np.set_printoptions(linewidth=np.inf)# forces the print function to print each row of matrix a one line only\n",
        "print(\"M = \",M)\n",
        "\n",
        "print(\"\\n\\nCalculate SVD for M and test it.\\n\")\n",
        "U, S, Vt = np.linalg.svd(M, full_matrices=True)\n",
        "SS = np.zeros((m, n), float)\n",
        "np.fill_diagonal(SS, S)\n",
        "print (\"U =\\n\", U)\n",
        "print (\"\\n\"+SIGMA+\" =\\n\", SS)\n",
        "print (\"\\nVt =\\n\", Vt)\n",
        "\n",
        "print(\"\\n Complex M matrix gives complex U and V matric\")\n",
        "M_out=np.dot(np.dot(U,SS),Vt)\n",
        "print(\"\\n\\nU \"+SIGMA+\" Vt =\\n\",M_out)\n",
        "print(\"\\nand,\\n\\n M =\\n\",M)"
      ],
      "execution_count": null,
      "outputs": []
    },
    {
      "cell_type": "code",
      "metadata": {
        "id": "hdJryA0-HgIP",
        "cellView": "form",
        "colab": {
          "base_uri": "https://localhost:8080/",
          "height": 773
        },
        "outputId": "afbec0b9-4ce9-4df5-961a-ad5dea80761a"
      },
      "source": [
        "#@title Create a random real matrix of m x n size { run: \"auto\" }\n",
        "m = 5 #@param {type:\"slider\", min:2, max:10, step:1}\n",
        "n=3 #@param {type:\"slider\", min:2, max:10, step:1}\n",
        "M= np.random.randn(m, n)  # Create a random matrix M\n",
        "np.set_printoptions(linewidth=np.inf)# forces the print function to print each row of matrix a one line only\n",
        "print(\"M = \",M)\n",
        "\n",
        "print(\"\\n\\nCalculate SVD for M and test it.\\n\")\n",
        "U, S, Vt = np.linalg.svd(M, full_matrices=True)\n",
        "SS = np.zeros((m, n), float)\n",
        "np.fill_diagonal(SS, S)\n",
        "print (\"U =\\n\", U)\n",
        "print (\"\\n\"+SIGMA+\" =\\n\", SS)\n",
        "print (\"\\nVt =\\n\", Vt)\n",
        "print(\"\\n Real M matrix gives real U and V matric\")\n",
        "M_out=np.dot(np.dot(U,SS),Vt)\n",
        "print(\"\\n\\nU \"+SIGMA+\" Vt =\\n\",M_out)\n",
        "print(\"\\nand,\\n\\n M =\\n\",M)"
      ],
      "execution_count": null,
      "outputs": [
        {
          "output_type": "stream",
          "text": [
            "M =  [[ 0.44447834  0.21296221 -0.76113164]\n",
            " [ 0.71806192  0.35111807  0.89716619]\n",
            " [ 1.77983796  0.07343762  2.46836464]\n",
            " [ 1.73441259  0.00573417 -0.22308894]\n",
            " [-0.14491088  2.31392887 -0.38487947]]\n",
            "\n",
            "\n",
            "Calculate SVD for M and test it.\n",
            "\n",
            "U =\n",
            " [[ 0.08001562  0.14637584  0.47172826 -0.86542441  0.02616612]\n",
            " [-0.32979351  0.16417508 -0.08645337 -0.07773607 -0.92236961]\n",
            " [-0.88194963  0.06741303 -0.22717683 -0.18296452  0.36405357]\n",
            " [-0.29293454  0.13134053  0.83337465  0.44975473  0.01209986]\n",
            " [ 0.1455608   0.96427476 -0.1545175   0.09613724  0.12596914]]\n",
            "\n",
            "Σ =\n",
            " [[3.41947647 0.         0.        ]\n",
            " [0.         2.3667309  0.        ]\n",
            " [0.         0.         1.6790568 ]\n",
            " [0.         0.         0.        ]\n",
            " [0.         0.         0.        ]]\n",
            "\n",
            "Vt =\n",
            " [[-0.67265767  0.05018697 -0.73824991]\n",
            " [ 0.16520586  0.9826991  -0.08372273]\n",
            " [ 0.72127573 -0.17827995 -0.66931127]]\n",
            "\n",
            " Real M matrix gives real U and V matric\n",
            "\n",
            "\n",
            "U Σ Vt =\n",
            " [[ 0.44447834  0.21296221 -0.76113164]\n",
            " [ 0.71806192  0.35111807  0.89716619]\n",
            " [ 1.77983796  0.07343762  2.46836464]\n",
            " [ 1.73441259  0.00573417 -0.22308894]\n",
            " [-0.14491088  2.31392887 -0.38487947]]\n",
            "\n",
            "and,\n",
            "\n",
            " M = [[ 0.44447834  0.21296221 -0.76113164]\n",
            " [ 0.71806192  0.35111807  0.89716619]\n",
            " [ 1.77983796  0.07343762  2.46836464]\n",
            " [ 1.73441259  0.00573417 -0.22308894]\n",
            " [-0.14491088  2.31392887 -0.38487947]]\n"
          ],
          "name": "stdout"
        }
      ]
    }
  ]
}